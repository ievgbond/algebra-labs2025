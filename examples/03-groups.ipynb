{
 "cells": [
  {
   "cell_type": "markdown",
   "id": "51f30b6a-2212-4167-922b-9307f2948e71",
   "metadata": {},
   "source": [
    "# Групи, порядок елемента, підгрупи. \n",
    "\n",
    "## 1. Класичні скінченні групи. "
   ]
  },
  {
   "cell_type": "markdown",
   "id": "82633654-1efb-4937-8da1-c43e1cb917a8",
   "metadata": {},
   "source": [
    "__група симетрій десятикутника $D_{10}$__"
   ]
  },
  {
   "cell_type": "code",
   "execution_count": 52,
   "id": "49324371-46c1-49a5-ac42-dff0274d0083",
   "metadata": {},
   "outputs": [
    {
     "data": {
      "text/plain": [
       "((1,2,3,4,5,6,7,8,9,10), (1,10)(2,9)(3,8)(4,7)(5,6))"
      ]
     },
     "execution_count": 52,
     "metadata": {},
     "output_type": "execute_result"
    }
   ],
   "source": [
    "G = DihedralGroup(10)    \n",
    "G.gens()"
   ]
  },
  {
   "cell_type": "markdown",
   "id": "147d4f31-cb92-4454-8066-7752935c363f",
   "metadata": {},
   "source": [
    "------\n",
    "__група підстановок $S_{12}$__"
   ]
  },
  {
   "cell_type": "code",
   "execution_count": 53,
   "id": "b78cd12c-0b79-4e3b-abf0-cca308545410",
   "metadata": {},
   "outputs": [
    {
     "data": {
      "text/plain": [
       "((1,2,3,4,5,6,7,8,9,10,11,12), (1,2))"
      ]
     },
     "execution_count": 53,
     "metadata": {},
     "output_type": "execute_result"
    }
   ],
   "source": [
    "G = SymmetricGroup(12)   \n",
    "G.gens()"
   ]
  },
  {
   "cell_type": "markdown",
   "id": "3d5bd14b-4bfd-48a2-9607-391ea8d1f6c0",
   "metadata": {},
   "source": [
    "------\n",
    "__циклічна група $C_5$, задана підстановками__"
   ]
  },
  {
   "cell_type": "code",
   "execution_count": 54,
   "id": "46a631ef-3e69-4bfa-92bb-3a72015d2c3d",
   "metadata": {},
   "outputs": [
    {
     "data": {
      "text/plain": [
       "((1,2,3,4,5),)"
      ]
     },
     "execution_count": 54,
     "metadata": {},
     "output_type": "execute_result"
    }
   ],
   "source": [
    "G = CyclicPermutationGroup(5)\n",
    "G.gens()"
   ]
  },
  {
   "cell_type": "markdown",
   "id": "096eedf1-9ab9-441e-8dee-d32b4fd95824",
   "metadata": {},
   "source": [
    "------\n",
    "\n",
    "__кільце лишків за модулем 7 як група за додаванням__"
   ]
  },
  {
   "cell_type": "code",
   "execution_count": 26,
   "id": "416c2f48-8911-4c36-b751-841a4ae619cb",
   "metadata": {},
   "outputs": [
    {
     "data": {
      "text/plain": [
       "(1,)"
      ]
     },
     "execution_count": 26,
     "metadata": {},
     "output_type": "execute_result"
    }
   ],
   "source": [
    "G = Integers(7)\n",
    "G.gens()"
   ]
  },
  {
   "cell_type": "markdown",
   "id": "7c5f8bd1-1a9e-40fd-b787-817e1f0e97a2",
   "metadata": {},
   "source": [
    "------\n",
    "__мультиплікативна група кільця лишків за модулем 12__"
   ]
  },
  {
   "cell_type": "code",
   "execution_count": 56,
   "id": "f9445eef-615c-4a25-9f90-1fa39e430f15",
   "metadata": {},
   "outputs": [
    {
     "data": {
      "text/plain": [
       "Multiplicative Abelian group isomorphic to C2 x C2"
      ]
     },
     "execution_count": 56,
     "metadata": {},
     "output_type": "execute_result"
    }
   ],
   "source": [
    "G = Integers(12).unit_group()\n",
    "G"
   ]
  },
  {
   "cell_type": "code",
   "execution_count": 57,
   "id": "12db5544-0bcf-458d-8e4a-ad967b35fdcf",
   "metadata": {},
   "outputs": [
    {
     "data": {
      "text/plain": [
       "(f0, f1)"
      ]
     },
     "execution_count": 57,
     "metadata": {},
     "output_type": "execute_result"
    }
   ],
   "source": [
    "G.gens()"
   ]
  },
  {
   "cell_type": "code",
   "execution_count": 58,
   "id": "01ef4c6b-d41e-437a-a34f-391b6f6ff545",
   "metadata": {},
   "outputs": [
    {
     "data": {
      "text/plain": [
       "*  a b c d\n",
       " +--------\n",
       "a| a b c d\n",
       "b| b a d c\n",
       "c| c d a b\n",
       "d| d c b a\n"
      ]
     },
     "execution_count": 58,
     "metadata": {},
     "output_type": "execute_result"
    }
   ],
   "source": [
    "G.cayley_table()"
   ]
  },
  {
   "cell_type": "markdown",
   "id": "3ce26847-41a4-46d1-b879-cfe429991025",
   "metadata": {},
   "source": [
    "-------\n",
    "__група матриць 2х2 над полем $\\mathbb{Z}_3$__"
   ]
  },
  {
   "cell_type": "code",
   "execution_count": 60,
   "id": "82a5c27c-d3be-477a-88e1-e9b034690a24",
   "metadata": {},
   "outputs": [
    {
     "data": {
      "text/plain": [
       "(\n",
       "[2 0 0]  [2 0 1]\n",
       "[0 1 0]  [2 0 0]\n",
       "[0 0 1], [0 2 0]\n",
       ")"
      ]
     },
     "execution_count": 60,
     "metadata": {},
     "output_type": "execute_result"
    }
   ],
   "source": [
    "G = GL(3, Integers(3))\n",
    "G.gens()"
   ]
  },
  {
   "cell_type": "code",
   "execution_count": 61,
   "id": "8ac98dee-87b4-4676-b358-20e1d9b5fd39",
   "metadata": {},
   "outputs": [
    {
     "data": {
      "text/plain": [
       "11232"
      ]
     },
     "execution_count": 61,
     "metadata": {},
     "output_type": "execute_result"
    }
   ],
   "source": [
    "G.cardinality()"
   ]
  },
  {
   "cell_type": "markdown",
   "id": "90258208-d2d1-4854-b9e2-5c84877caccb",
   "metadata": {},
   "source": [
    "__Список скінченних підстановочних груп, які є в сейджі, порядку < 16__\n",
    "\n",
    "```\n",
    "---------------------------------------------------------------------------------------------\n",
    "Size  Construction                                Notes\n",
    "---------------------------------------------------------------------------------------------\n",
    "1     SymmetricGroup(1)                           Trivial\n",
    "2     SymmetricGroup(2)                           Also CyclicPermutationGroup(2)\n",
    "3     CyclicPermutationGroup(3)                   Prime order\n",
    "4     CyclicPermutationGroup(4)                   Cyclic\n",
    "4     KleinFourGroup()                            Abelian, non-cyclic\n",
    "5     CyclicPermutationGroup(5)                   Prime order\n",
    "6     CyclicPermutationGroup(6)                   Cyclic\n",
    "6     SymmetricGroup(3)                           Non-abelian, also DihedralGroup(3)\n",
    "7     CyclicPermutationGroup(7)                   Prime order\n",
    "8     CyclicPermutationGroup(8)                   Cyclic\n",
    "8     D1 = CyclicPermutationGroup(4)\n",
    "      D2 = CyclicPermutationGroup(2)\n",
    "      G = direct_product_permgroups([D1,D2])      Abelian, non-cyclic\n",
    "8     D1 = CyclicPermutationGroup(2)\n",
    "      D2 = CyclicPermutationGroup(2)\n",
    "      D3 = CyclicPermutationGroup(2)\n",
    "      G = direct_product_permgroups([D1,D2,D3])   Abelian, non-cyclic\n",
    "8     DihedralGroup(4)                            Non-abelian\n",
    "8     QuaternionGroup()                           Quaternions, also DiCyclicGroup(2)\n",
    "9     CyclicPermutationGroup(9)                   Cyclic\n",
    "9     D1 = CyclicPermutationGroup(3)\n",
    "      D2 = CyclicPermutationGroup(3)\n",
    "      G = direct_product_permgroups([D1,D2])      Abelian, non-cyclic\n",
    "10    CyclicPermutationGroup(10)                  Cyclic\n",
    "10    DihedralGroup(5)                            Non-abelian\n",
    "11    CyclicPermutationGroup(11)                  Prime order\n",
    "12    CyclicPermutationGroup(12)                  Cyclic\n",
    "12    D1 = CyclicPermutationGroup(6)\n",
    "      D2 = CyclicPermutationGroup(2)\n",
    "      G = direct_product_permgroups([D1,D2])      Abelian, non-cyclic\n",
    "12    DihedralGroup(6)                            Non-abelian\n",
    "12    AlternatingGroup(4)                         Non-abelian, symmetries of tetrahedron\n",
    "12    DiCyclicGroup(3)                            Non-abelian\n",
    "                                                  Also semi-direct  product $Z_3 \\rtimes Z_4$\n",
    "13    CyclicPermutationGroup(13)                  Prime order\n",
    "14    CyclicPermutationGroup(14)                  Cyclic\n",
    "14    DihedralGroup(7)                            Non-abelian\n",
    "15    CyclicPermutationGroup(15)                  Cyclic\n",
    "\n",
    "----------------------------------------------------------------------------------------------\n",
    "```"
   ]
  },
  {
   "cell_type": "markdown",
   "id": "b4c9bdb1-9377-4091-90d0-0bddf8e5966e",
   "metadata": {},
   "source": [
    "## 2. Скінченно-породженні матричні групи. \n",
    "\n",
    "Цей обʼєкт імплементовано в математичному пакеті GAP, який входить в sagemath. Тому опис методів варто шукати в хелпі GAP: https://docs.gap-system.org/doc/ref/chap44.html"
   ]
  },
  {
   "cell_type": "code",
   "execution_count": 33,
   "id": "dbda182a-d556-4b02-8c0f-4c296cd4be03",
   "metadata": {},
   "outputs": [
    {
     "data": {
      "text/plain": [
       "Matrix group over Rational Field with 2 generators (\n",
       "[1 2]  [-1  2]\n",
       "[1 0], [ 1  0]\n",
       ")"
      ]
     },
     "execution_count": 33,
     "metadata": {},
     "output_type": "execute_result"
    }
   ],
   "source": [
    "a = matrix(QQ, [[1, 2], [1, 0]])\n",
    "b = matrix(QQ, [[-1, 2], [1, 0]])\n",
    "G = MatrixGroup([a, b])\n",
    "G"
   ]
  },
  {
   "cell_type": "markdown",
   "id": "0e814e6b-57d6-47f3-aa56-0a4c67f1fe85",
   "metadata": {},
   "source": [
    "## 3. Граф Келі"
   ]
  },
  {
   "cell_type": "code",
   "execution_count": 68,
   "id": "70fa2d39-1557-4d9f-aeb1-fa1856f78a32",
   "metadata": {},
   "outputs": [],
   "source": [
    "G = DihedralGroup(3)"
   ]
  },
  {
   "cell_type": "code",
   "execution_count": 78,
   "id": "356e2c82-461f-4303-b309-5415239d45dc",
   "metadata": {},
   "outputs": [
    {
     "data": {
      "image/png": "[encoded data removed]",
      "text/plain": [
       "Graphics object consisting of 24 graphics primitives"
      ]
     },
     "execution_count": 78,
     "metadata": {},
     "output_type": "execute_result"
    }
   ],
   "source": [
    "G.cayley_graph().plot()"
   ]
  },
  {
   "cell_type": "markdown",
   "id": "530d7ab1-f726-40d8-9583-568041a72726",
   "metadata": {},
   "source": [
    "## 4. Підгрупи"
   ]
  },
  {
   "cell_type": "code",
   "execution_count": 82,
   "id": "e5b03d1e-0b8b-417e-bdb9-20dccaaa0a59",
   "metadata": {},
   "outputs": [
    {
     "name": "stdout",
     "output_type": "stream",
     "text": [
      "{ 1: [ Subgroup generated by [()] of (Dihedral group of order 20 as a permutation group)],\n",
      "  2: [ Subgroup generated by [(2,10)(3,9)(4,8)(5,7)] of (Dihedral group of order 20 as a permutation group),\n",
      "       Subgroup generated by [(1,3)(4,10)(5,9)(6,8)] of (Dihedral group of order 20 as a permutation group),\n",
      "       Subgroup generated by [(1,5)(2,4)(6,10)(7,9)] of (Dihedral group of order 20 as a permutation group),\n",
      "       Subgroup generated by [(1,7)(2,6)(3,5)(8,10)] of (Dihedral group of order 20 as a permutation group),\n",
      "       Subgroup generated by [(1,9)(2,8)(3,7)(4,6)] of (Dihedral group of order 20 as a permutation group),\n",
      "       Subgroup generated by [(1,6)(2,7)(3,8)(4,9)(5,10)] of (Dihedral group of order 20 as a permutation group),\n",
      "       Subgroup generated by [(1,2)(3,10)(4,9)(5,8)(6,7)] of (Dihedral group of order 20 as a permutation group),\n",
      "       Subgroup generated by [(1,4)(2,3)(5,10)(6,9)(7,8)] of (Dihedral group of order 20 as a permutation group),\n",
      "       Subgroup generated by [(1,6)(2,5)(3,4)(7,10)(8,9)] of (Dihedral group of order 20 as a permutation group),\n",
      "       Subgroup generated by [(1,8)(2,7)(3,6)(4,5)(9,10)] of (Dihedral group of order 20 as a permutation group),\n",
      "       Subgroup generated by [(1,10)(2,9)(3,8)(4,7)(5,6)] of (Dihedral group of order 20 as a permutation group)],\n",
      "  4: [ Subgroup generated by [(2,10)(3,9)(4,8)(5,7), (1,6)(2,7)(3,8)(4,9)(5,10)] of (Dihedral group of order 20 as a permutation group),\n",
      "       Subgroup generated by [(1,6)(2,7)(3,8)(4,9)(5,10), (1,7)(2,6)(3,5)(8,10)] of (Dihedral group of order 20 as a permutation group),\n",
      "       Subgroup generated by [(1,3)(4,10)(5,9)(6,8), (1,6)(2,7)(3,8)(4,9)(5,10)] of (Dihedral group of order 20 as a permutation group),\n",
      "       Subgroup generated by [(1,6)(2,7)(3,8)(4,9)(5,10), (1,9)(2,8)(3,7)(4,6)] of (Dihedral group of order 20 as a permutation group),\n",
      "       Subgroup generated by [(1,5)(2,4)(6,10)(7,9), (1,6)(2,7)(3,8)(4,9)(5,10)] of (Dihedral group of order 20 as a permutation group)],\n",
      "  5: [ Subgroup generated by [(1,3,5,7,9)(2,4,6,8,10)] of (Dihedral group of order 20 as a permutation group)],\n",
      "  10: [ Subgroup generated by [(2,10)(3,9)(4,8)(5,7), (1,3,5,7,9)(2,4,6,8,10)] of (Dihedral group of order 20 as a permutation group),\n",
      "        Subgroup generated by [(1,2,3,4,5,6,7,8,9,10), (1,3,5,7,9)(2,4,6,8,10)] of (Dihedral group of order 20 as a permutation group),\n",
      "        Subgroup generated by [(1,2)(3,10)(4,9)(5,8)(6,7), (1,3,5,7,9)(2,4,6,8,10)] of (Dihedral group of order 20 as a permutation group)],\n",
      "  20: [ Subgroup generated by [(2,10)(3,9)(4,8)(5,7), (1,2,3,4,5,6,7,8,9,10), (1,3,5,7,9)(2,4,6,8,10)] of (Dihedral group of order 20 as a permutation group)]}\n"
     ]
    }
   ],
   "source": [
    "from pprint import pprint\n",
    "G = DihedralGroup(10)\n",
    "subgroups = G.subgroups()\n",
    "\n",
    "by_order = {}\n",
    "for el in subgroups: \n",
    "    n = el.cardinality()\n",
    "    if n not in by_order: \n",
    "        by_order[n] = []   \n",
    "    by_order[n].append(el) \n",
    "\n",
    "pprint(by_order, indent=2)"
   ]
  }
 ],
 "metadata": {
  "kernelspec": {
   "display_name": "SageMath 10.3",
   "language": "sage",
   "name": "sagemath-10.3"
  },
  "language_info": {
   "codemirror_mode": {
    "name": "ipython",
    "version": 3
   },
   "file_extension": ".py",
   "mimetype": "text/x-python",
   "name": "python",
   "nbconvert_exporter": "python",
   "pygments_lexer": "ipython3",
   "version": "3.11.8"
  }
 },
 "nbformat": 4,
 "nbformat_minor": 5
}
