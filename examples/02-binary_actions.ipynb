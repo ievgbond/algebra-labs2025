{
 "cells": [
  {
   "cell_type": "markdown",
   "id": "7f4bb313-4126-4e5c-b78f-e25235915dab",
   "metadata": {},
   "source": [
    "# Бінарні дії \n",
    "\n",
    "## 1. Таблиця Келі\n",
    "\n",
    "В Sage є можливість створити табличку Келі деякої множини і визначеної дії на ній. "
   ]
  },
  {
   "cell_type": "code",
   "execution_count": 1,
   "id": "5b4e894f-b400-4782-80f7-012aa8507ca2",
   "metadata": {},
   "outputs": [],
   "source": [
    "from sage.matrix.operation_table import OperationTable"
   ]
  },
  {
   "cell_type": "markdown",
   "id": "7b5857ea-33b7-4dca-b3e6-c442c0df4b13",
   "metadata": {},
   "source": [
    "Створимо Діедральну групу $D_4$ і побудуємо для неї табличку Келі: "
   ]
  },
  {
   "cell_type": "code",
   "execution_count": 23,
   "id": "21d3076d-5798-40a2-9b85-160cd5c550a7",
   "metadata": {},
   "outputs": [],
   "source": [
    "G = DihedralGroup(4)"
   ]
  },
  {
   "cell_type": "code",
   "execution_count": 25,
   "id": "1eac5b54-3de8-4179-b7a8-72140fb1cdbd",
   "metadata": {},
   "outputs": [
    {
     "data": {
      "text/plain": [
       "         *          ()      (2,4) (1,2)(3,4)  (1,2,3,4)      (1,3) (1,3)(2,4)  (1,4,3,2) (1,4)(2,3)\n",
       "          +----------------------------------------------------------------------------------------\n",
       "        ()|         ()      (2,4) (1,2)(3,4)  (1,2,3,4)      (1,3) (1,3)(2,4)  (1,4,3,2) (1,4)(2,3)\n",
       "     (2,4)|      (2,4)         ()  (1,2,3,4) (1,2)(3,4) (1,3)(2,4)      (1,3) (1,4)(2,3)  (1,4,3,2)\n",
       "(1,2)(3,4)| (1,2)(3,4)  (1,4,3,2)         ()      (1,3)  (1,2,3,4) (1,4)(2,3)      (2,4) (1,3)(2,4)\n",
       " (1,2,3,4)|  (1,2,3,4) (1,4)(2,3)      (2,4) (1,3)(2,4) (1,2)(3,4)  (1,4,3,2)         ()      (1,3)\n",
       "     (1,3)|      (1,3) (1,3)(2,4)  (1,4,3,2) (1,4)(2,3)         ()      (2,4) (1,2)(3,4)  (1,2,3,4)\n",
       "(1,3)(2,4)| (1,3)(2,4)      (1,3) (1,4)(2,3)  (1,4,3,2)      (2,4)         ()  (1,2,3,4) (1,2)(3,4)\n",
       " (1,4,3,2)|  (1,4,3,2) (1,2)(3,4)      (1,3)         () (1,4)(2,3)  (1,2,3,4) (1,3)(2,4)      (2,4)\n",
       "(1,4)(2,3)| (1,4)(2,3)  (1,2,3,4) (1,3)(2,4)      (2,4)  (1,4,3,2) (1,2)(3,4)      (1,3)         ()\n"
      ]
     },
     "execution_count": 25,
     "metadata": {},
     "output_type": "execute_result"
    }
   ],
   "source": [
    "OperationTable(G, operator.mul, names='elements')"
   ]
  },
  {
   "cell_type": "markdown",
   "id": "b073d082-6f83-4868-a323-de713e1eed21",
   "metadata": {},
   "source": [
    "Група в Sage -- це буквально множина елементів, які можна множити. Скінченні групи часто зображаються як підгрупи деякої групи підстановок. "
   ]
  },
  {
   "cell_type": "code",
   "execution_count": 58,
   "id": "fee623e7-df60-4a52-9965-d6df3e6c4fa3",
   "metadata": {},
   "outputs": [
    {
     "data": {
      "text/plain": [
       "[(), (1,3)(2,4), (1,4,3,2), (1,2,3,4), (2,4), (1,3), (1,4)(2,3), (1,2)(3,4)]"
      ]
     },
     "execution_count": 58,
     "metadata": {},
     "output_type": "execute_result"
    }
   ],
   "source": [
    "elements = G.list()\n",
    "elements"
   ]
  },
  {
   "cell_type": "code",
   "execution_count": 59,
   "id": "414bfcce-666e-41f6-a33b-9347f07da063",
   "metadata": {},
   "outputs": [
    {
     "data": {
      "text/plain": [
       "(1,2,3,4)"
      ]
     },
     "execution_count": 59,
     "metadata": {},
     "output_type": "execute_result"
    }
   ],
   "source": [
    "elements[2] * elements[1]"
   ]
  },
  {
   "cell_type": "code",
   "execution_count": 63,
   "id": "daa466cd-9a35-4b77-99b8-14b0116b8425",
   "metadata": {},
   "outputs": [
    {
     "data": {
      "text/plain": [
       "Symmetric group of order 3! as a permutation group"
      ]
     },
     "execution_count": 63,
     "metadata": {},
     "output_type": "execute_result"
    }
   ],
   "source": [
    "G = SymmetricGroup(3)\n",
    "G"
   ]
  },
  {
   "cell_type": "code",
   "execution_count": 64,
   "id": "190e02e0-2f2a-4e6d-b194-779934c2cccd",
   "metadata": {},
   "outputs": [
    {
     "data": {
      "text/plain": [
       "      *       ()   (2,3)   (1,2) (1,2,3) (1,3,2)   (1,3)\n",
       "       +------------------------------------------------\n",
       "     ()|      ()   (2,3)   (1,2) (1,2,3) (1,3,2)   (1,3)\n",
       "  (2,3)|   (2,3)      () (1,2,3)   (1,2)   (1,3) (1,3,2)\n",
       "  (1,2)|   (1,2) (1,3,2)      ()   (1,3)   (2,3) (1,2,3)\n",
       "(1,2,3)| (1,2,3)   (1,3)   (2,3) (1,3,2)      ()   (1,2)\n",
       "(1,3,2)| (1,3,2)   (1,2)   (1,3)      () (1,2,3)   (2,3)\n",
       "  (1,3)|   (1,3) (1,2,3) (1,3,2)   (2,3)   (1,2)      ()\n"
      ]
     },
     "execution_count": 64,
     "metadata": {},
     "output_type": "execute_result"
    }
   ],
   "source": [
    "OperationTable(G, operation=operator.mul, names='elements')"
   ]
  },
  {
   "cell_type": "code",
   "execution_count": 65,
   "id": "4e9f4f50-b3f2-48a8-b9f0-420a7cd20fa7",
   "metadata": {},
   "outputs": [
    {
     "data": {
      "text/plain": [
       "[(), (1,3,2), (1,2,3), (2,3), (1,3), (1,2)]"
      ]
     },
     "execution_count": 65,
     "metadata": {},
     "output_type": "execute_result"
    }
   ],
   "source": [
    "G.list()"
   ]
  },
  {
   "cell_type": "code",
   "execution_count": 66,
   "id": "63aa6041-6e0c-4dca-b147-8bb9b3cf3497",
   "metadata": {},
   "outputs": [
    {
     "data": {
      "text/plain": [
       "+  0 1 2 3 4 5 6 7 8 9\n",
       " +--------------------\n",
       "0| 0 1 2 3 4 5 6 7 8 9\n",
       "1| 1 2 3 4 5 6 7 8 9 0\n",
       "2| 2 3 4 5 6 7 8 9 0 1\n",
       "3| 3 4 5 6 7 8 9 0 1 2\n",
       "4| 4 5 6 7 8 9 0 1 2 3\n",
       "5| 5 6 7 8 9 0 1 2 3 4\n",
       "6| 6 7 8 9 0 1 2 3 4 5\n",
       "7| 7 8 9 0 1 2 3 4 5 6\n",
       "8| 8 9 0 1 2 3 4 5 6 7\n",
       "9| 9 0 1 2 3 4 5 6 7 8\n"
      ]
     },
     "execution_count": 66,
     "metadata": {},
     "output_type": "execute_result"
    }
   ],
   "source": [
    "OperationTable(Integers(10), operation=operator.add, names='elements')"
   ]
  },
  {
   "cell_type": "markdown",
   "id": "7f8f4a27-6479-460b-9bb6-bd82e293d1c2",
   "metadata": {},
   "source": [
    "## 2. Визначення довільної бінарної дії"
   ]
  },
  {
   "cell_type": "markdown",
   "id": "5da0d0c0-2972-4256-91e7-7c86a26cc980",
   "metadata": {},
   "source": [
    "В документації OperationTable вказано: \n",
    "\n",
    "```\n",
    " |  - ``operation`` - a function of two variables that accepts pairs\n",
    " |      of elements from ``S``. A natural source of such functions is\n",
    " |      the Python :mod:`operator` module, and in particular\n",
    " |      :func:`operator.add` and :func:`operator.mul`. This may also\n",
    " |      be a function defined with ``lambda`` or ``def.``\n",
    "```\n",
    "\n",
    "Тобто щоб побудувати табличку Келі для деякої бінарної дії нам треба спершу визначити цю дію як функцію від двох змінних. Але щоб перебирати всі можливі бінарні дії нам треба їх задавати табличкою...\n",
    "\n",
    "Щоб перебрати всі можливі відображення з однієї множини в іншу є спеціальний клас __FiniteSetMaps__."
   ]
  },
  {
   "cell_type": "code",
   "execution_count": 68,
   "id": "e5521d43-30ae-4376-a79e-86472ab199cb",
   "metadata": {},
   "outputs": [
    {
     "data": {
      "text/plain": [
       "Maps from {1, 2, 3} to {'foo', 'bar'}"
      ]
     },
     "execution_count": 68,
     "metadata": {},
     "output_type": "execute_result"
    }
   ],
   "source": [
    "M = FiniteSetMaps([1, 2, 3], ['foo', 'bar'])\n",
    "M"
   ]
  },
  {
   "cell_type": "code",
   "execution_count": 69,
   "id": "94f50c18-6f15-4ae9-8887-68bf719a17b3",
   "metadata": {},
   "outputs": [
    {
     "name": "stdout",
     "output_type": "stream",
     "text": [
      "map: 1 -> foo, 2 -> foo, 3 -> foo\n",
      "map: 1 -> foo, 2 -> foo, 3 -> bar\n",
      "map: 1 -> foo, 2 -> bar, 3 -> foo\n",
      "map: 1 -> foo, 2 -> bar, 3 -> bar\n",
      "map: 1 -> bar, 2 -> foo, 3 -> foo\n",
      "map: 1 -> bar, 2 -> foo, 3 -> bar\n",
      "map: 1 -> bar, 2 -> bar, 3 -> foo\n",
      "map: 1 -> bar, 2 -> bar, 3 -> bar\n"
     ]
    }
   ],
   "source": [
    "for el in M: \n",
    "    print(el)"
   ]
  },
  {
   "cell_type": "markdown",
   "id": "0846c24c-2e0e-4749-82f3-a22171b9bd43",
   "metadata": {},
   "source": [
    "За означенням, бінарна дія на множині $S$ це відображення з декартового добутку $S^2$ в саму $S$. Ми можемо за означенням так і зробити: "
   ]
  },
  {
   "cell_type": "code",
   "execution_count": 39,
   "id": "eab5d703-2240-42cd-a0a7-b9a629f70a4e",
   "metadata": {},
   "outputs": [],
   "source": [
    "from itertools import product"
   ]
  },
  {
   "cell_type": "code",
   "execution_count": 70,
   "id": "1725c767-2c11-4654-a667-9e96cdf85718",
   "metadata": {},
   "outputs": [
    {
     "data": {
      "text/plain": [
       "Maps from {(1, 1), (1, 2), (1, 3), (1, 4), (2, 1), (2, 2), (2, 3), (2, 4), (3, 1), (3, 2), (3, 3), (3, 4), (4, 1), (4, 2), (4, 3), (4, 4)} to {1, 2, 3, 4}"
      ]
     },
     "execution_count": 70,
     "metadata": {},
     "output_type": "execute_result"
    }
   ],
   "source": [
    "need_set = [1, 2, 3, 4]\n",
    "\n",
    "M = FiniteSetMaps(product(need_set, repeat=2), need_set)\n",
    "M"
   ]
  },
  {
   "cell_type": "code",
   "execution_count": 71,
   "id": "4e46de3c-9a3a-4dbf-9423-7218d7fc89a7",
   "metadata": {},
   "outputs": [
    {
     "data": {
      "text/plain": [
       "4294967296"
      ]
     },
     "execution_count": 71,
     "metadata": {},
     "output_type": "execute_result"
    }
   ],
   "source": [
    "M.cardinality()"
   ]
  },
  {
   "cell_type": "code",
   "execution_count": 73,
   "id": "8d9a6429-95f0-4499-aeb6-097b134def1c",
   "metadata": {},
   "outputs": [
    {
     "data": {
      "text/plain": [
       "map: (1, 1) -> 1, (1, 2) -> 1, (1, 3) -> 1, (1, 4) -> 1, (2, 1) -> 1, (2, 2) -> 1, (2, 3) -> 1, (2, 4) -> 1, (3, 1) -> 1, (3, 2) -> 1, (3, 3) -> 1, (3, 4) -> 1, (4, 1) -> 1, (4, 2) -> 1, (4, 3) -> 1, (4, 4) -> 1"
      ]
     },
     "execution_count": 73,
     "metadata": {},
     "output_type": "execute_result"
    }
   ],
   "source": [
    "f = M[0]\n",
    "f"
   ]
  },
  {
   "cell_type": "markdown",
   "id": "2c09ef6c-a6dd-41a8-a795-b96e5a321c9c",
   "metadata": {},
   "source": [
    "Але ми не можемо отак сходу побудувати табличку Келі, бо клас OperationTable очікує функцію від двох змінних, а відображення `f` приймає кортеж на вхід. "
   ]
  },
  {
   "cell_type": "code",
   "execution_count": 78,
   "id": "b87374f5-099d-4090-9088-861e8d5b52b7",
   "metadata": {},
   "outputs": [
    {
     "data": {
      "text/plain": [
       "1"
      ]
     },
     "execution_count": 78,
     "metadata": {},
     "output_type": "execute_result"
    }
   ],
   "source": [
    "f((2, 3))"
   ]
  },
  {
   "cell_type": "code",
   "execution_count": 77,
   "id": "8a1b30ac-c102-4ef9-9ab9-d21e36378e33",
   "metadata": {},
   "outputs": [],
   "source": [
    "# викине помилку \n",
    "OperationTable(need_set, f)"
   ]
  },
  {
   "cell_type": "markdown",
   "id": "9fce7520-d302-449c-b690-af56e1f3c82e",
   "metadata": {},
   "source": [
    "Тому треба зробити невеликий костиль: "
   ]
  },
  {
   "cell_type": "code",
   "execution_count": 83,
   "id": "a38ec7da-3eae-4b84-aa2f-f4dad79de838",
   "metadata": {},
   "outputs": [
    {
     "data": {
      "text/plain": [
       ".  1 2 3 4\n",
       " +--------\n",
       "1| 1 1 1 1\n",
       "2| 1 1 1 1\n",
       "3| 1 1 1 1\n",
       "4| 1 1 1 1\n"
      ]
     },
     "execution_count": 83,
     "metadata": {},
     "output_type": "execute_result"
    }
   ],
   "source": [
    "def _f(x, y): \n",
    "    return f((x, y))\n",
    "\n",
    "OperationTable(need_set, _f, names='elements')"
   ]
  },
  {
   "cell_type": "code",
   "execution_count": 55,
   "id": "3347884f-2302-4c6e-9a8d-c31a7ee705be",
   "metadata": {},
   "outputs": [
    {
     "name": "stdout",
     "output_type": "stream",
     "text": [
      "map: (1, 1) -> 1, (1, 2) -> 1, (1, 3) -> 1, (2, 1) -> 1, (2, 2) -> 1, (2, 3) -> 1, (3, 1) -> 1, (3, 2) -> 1, (3, 3) -> 1\n",
      ".  1 2 3\n",
      " +------\n",
      "1| 1 1 1\n",
      "2| 1 1 1\n",
      "3| 1 1 1\n",
      "\n",
      "map: (1, 1) -> 1, (1, 2) -> 1, (1, 3) -> 1, (2, 1) -> 1, (2, 2) -> 1, (2, 3) -> 1, (3, 1) -> 1, (3, 2) -> 1, (3, 3) -> 2\n",
      ".  1 2 3\n",
      " +------\n",
      "1| 1 1 1\n",
      "2| 1 1 1\n",
      "3| 1 1 2\n",
      "\n",
      "map: (1, 1) -> 1, (1, 2) -> 1, (1, 3) -> 1, (2, 1) -> 1, (2, 2) -> 1, (2, 3) -> 1, (3, 1) -> 1, (3, 2) -> 1, (3, 3) -> 3\n",
      ".  1 2 3\n",
      " +------\n",
      "1| 1 1 1\n",
      "2| 1 1 1\n",
      "3| 1 1 3\n",
      "\n",
      "map: (1, 1) -> 1, (1, 2) -> 1, (1, 3) -> 1, (2, 1) -> 1, (2, 2) -> 1, (2, 3) -> 1, (3, 1) -> 1, (3, 2) -> 2, (3, 3) -> 1\n",
      ".  1 2 3\n",
      " +------\n",
      "1| 1 1 1\n",
      "2| 1 1 1\n",
      "3| 1 2 1\n",
      "\n",
      "map: (1, 1) -> 1, (1, 2) -> 1, (1, 3) -> 1, (2, 1) -> 1, (2, 2) -> 1, (2, 3) -> 1, (3, 1) -> 1, (3, 2) -> 2, (3, 3) -> 2\n",
      ".  1 2 3\n",
      " +------\n",
      "1| 1 1 1\n",
      "2| 1 1 1\n",
      "3| 1 2 2\n",
      "\n",
      "map: (1, 1) -> 1, (1, 2) -> 1, (1, 3) -> 1, (2, 1) -> 1, (2, 2) -> 1, (2, 3) -> 1, (3, 1) -> 1, (3, 2) -> 2, (3, 3) -> 3\n",
      ".  1 2 3\n",
      " +------\n",
      "1| 1 1 1\n",
      "2| 1 1 1\n",
      "3| 1 2 3\n",
      "\n",
      "map: (1, 1) -> 1, (1, 2) -> 1, (1, 3) -> 1, (2, 1) -> 1, (2, 2) -> 1, (2, 3) -> 1, (3, 1) -> 1, (3, 2) -> 3, (3, 3) -> 1\n",
      ".  1 2 3\n",
      " +------\n",
      "1| 1 1 1\n",
      "2| 1 1 1\n",
      "3| 1 3 1\n",
      "\n",
      "map: (1, 1) -> 1, (1, 2) -> 1, (1, 3) -> 1, (2, 1) -> 1, (2, 2) -> 1, (2, 3) -> 1, (3, 1) -> 1, (3, 2) -> 3, (3, 3) -> 2\n",
      ".  1 2 3\n",
      " +------\n",
      "1| 1 1 1\n",
      "2| 1 1 1\n",
      "3| 1 3 2\n",
      "\n",
      "map: (1, 1) -> 1, (1, 2) -> 1, (1, 3) -> 1, (2, 1) -> 1, (2, 2) -> 1, (2, 3) -> 1, (3, 1) -> 1, (3, 2) -> 3, (3, 3) -> 3\n",
      ".  1 2 3\n",
      " +------\n",
      "1| 1 1 1\n",
      "2| 1 1 1\n",
      "3| 1 3 3\n",
      "\n",
      "map: (1, 1) -> 1, (1, 2) -> 1, (1, 3) -> 1, (2, 1) -> 1, (2, 2) -> 1, (2, 3) -> 1, (3, 1) -> 2, (3, 2) -> 1, (3, 3) -> 1\n",
      ".  1 2 3\n",
      " +------\n",
      "1| 1 1 1\n",
      "2| 1 1 1\n",
      "3| 2 1 1\n",
      "\n"
     ]
    }
   ],
   "source": [
    "i = 0\n",
    "\n",
    "for f in M: \n",
    "    i += 1\n",
    "    print(f)\n",
    "    def _f(x, y): \n",
    "        return f((x, y))\n",
    "\n",
    "    print(OperationTable(need_set, _f, names='elements'))\n",
    "\n",
    "    if i == 10: break"
   ]
  }
 ],
 "metadata": {
  "kernelspec": {
   "display_name": "SageMath 10.3",
   "language": "sage",
   "name": "sagemath-10.3"
  },
  "language_info": {
   "codemirror_mode": {
    "name": "ipython",
    "version": 3
   },
   "file_extension": ".py",
   "mimetype": "text/x-python",
   "name": "python",
   "nbconvert_exporter": "python",
   "pygments_lexer": "ipython3",
   "version": "3.11.8"
  }
 },
 "nbformat": 4,
 "nbformat_minor": 5
}
