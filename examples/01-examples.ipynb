{
 "cells": [
  {
   "cell_type": "markdown",
   "id": "1a2df7dc-69d1-4d59-b956-bfd37f8f6f43",
   "metadata": {},
   "source": [
    "# Вступ\n",
    "\n",
    "Хоч sage є надбудовою над Python 3, в ньому багато що відбувається по-іншому. Розглянемо ряд прикладів, які дадуть вам уявлення про можливості sage з коробки.  \n",
    "\n",
    "## 1. Символьні обчислення\n",
    "\n",
    "В sage є глобальна змінна `x`, яка є просто символом без області визначення. Можна додатково задати над яким полем ми розглядаємо її, але це трохи пізніше. "
   ]
  },
  {
   "cell_type": "code",
   "execution_count": 4,
   "id": "8249c190-7a02-40db-8a46-fdc0ea618482",
   "metadata": {},
   "outputs": [],
   "source": [
    "tmp = (x + x) ** 2 + (x + 5)"
   ]
  },
  {
   "cell_type": "code",
   "execution_count": 5,
   "id": "d30f5728-84c5-4886-ac55-ae78463184c4",
   "metadata": {},
   "outputs": [],
   "source": [
    "result = integral(exp(x+x^2)/(x+1), x)  "
   ]
  },
  {
   "cell_type": "markdown",
   "id": "7e73cab7-6255-4db4-b4a9-a7a2edc03c49",
   "metadata": {},
   "source": [
    "В кожного обʼєкта є внутрішнє представлення в Latex і ASCII форматах."
   ]
  },
  {
   "cell_type": "code",
   "execution_count": 3,
   "id": "1630de85-b5c9-4eac-8bf2-9b7e36155cf0",
   "metadata": {},
   "outputs": [
    {
     "data": {
      "text/plain": [
       "  /          \n",
       " |           \n",
       " |   2       \n",
       " |  x  + x   \n",
       " | e         \n",
       " | ------- dx\n",
       " |  x + 1    \n",
       " |           \n",
       "/            "
      ]
     },
     "execution_count": 3,
     "metadata": {},
     "output_type": "execute_result"
    }
   ],
   "source": [
    "ascii_art(result)"
   ]
  },
  {
   "cell_type": "code",
   "execution_count": 6,
   "id": "270e38da-24e6-4c17-9d11-25d4ad8de80c",
   "metadata": {},
   "outputs": [
    {
     "data": {
      "text/plain": [
       "\\int \\frac{e^{\\left(x^{2} + x\\right)}}{x + 1}\\,{d x}"
      ]
     },
     "execution_count": 6,
     "metadata": {},
     "output_type": "execute_result"
    }
   ],
   "source": [
    "latex(result)"
   ]
  },
  {
   "cell_type": "markdown",
   "id": "049ccc06-5478-4a78-b0a2-2d4bf27464f6",
   "metadata": {},
   "source": [
    "Можна створити свої символьні змінні. Вони будуть існувати як глобальні з такими ж назвами. "
   ]
  },
  {
   "cell_type": "code",
   "execution_count": 16,
   "id": "0dae66c8-d917-400f-8a74-1b94ea5fd268",
   "metadata": {},
   "outputs": [
    {
     "data": {
      "text/plain": [
       "(a, b, c, d)"
      ]
     },
     "execution_count": 16,
     "metadata": {},
     "output_type": "execute_result"
    }
   ],
   "source": [
    "var('a b c d')"
   ]
  },
  {
   "cell_type": "markdown",
   "id": "e60bcae6-aaf9-432a-8ca3-2ff89886cedc",
   "metadata": {},
   "source": [
    "Можна створити символьну матрицю і знайти її обернену, характеристичний поліном і власні числа. "
   ]
  },
  {
   "cell_type": "code",
   "execution_count": 17,
   "id": "c8a589fc-76ac-42e2-8815-2f9d722d4d22",
   "metadata": {},
   "outputs": [
    {
     "data": {
      "text/plain": [
       "[a b]\n",
       "[c d]"
      ]
     },
     "execution_count": 17,
     "metadata": {},
     "output_type": "execute_result"
    }
   ],
   "source": [
    "A = Matrix([\n",
    "    [a, b], \n",
    "    [c, d]\n",
    "])\n",
    "A"
   ]
  },
  {
   "cell_type": "code",
   "execution_count": 18,
   "id": "15a23e9d-f701-4aa8-be4d-969aaab6df29",
   "metadata": {},
   "outputs": [
    {
     "data": {
      "text/plain": [
       "[1/a - b*c/(a^2*(b*c/a - d))           b/(a*(b*c/a - d))]\n",
       "[          c/(a*(b*c/a - d))              -1/(b*c/a - d)]"
      ]
     },
     "execution_count": 18,
     "metadata": {},
     "output_type": "execute_result"
    }
   ],
   "source": [
    "A.inverse()"
   ]
  },
  {
   "cell_type": "code",
   "execution_count": 19,
   "id": "7b98d46c-4f69-4f7e-8bd3-b7c780767a59",
   "metadata": {},
   "outputs": [
    {
     "data": {
      "text/plain": [
       "x^2 + (-a - d)*x - b*c + a*d"
      ]
     },
     "execution_count": 19,
     "metadata": {},
     "output_type": "execute_result"
    }
   ],
   "source": [
    "A.charpoly()"
   ]
  },
  {
   "cell_type": "code",
   "execution_count": 20,
   "id": "e4585bee-cec0-490a-8a4d-732f48dc0c2e",
   "metadata": {},
   "outputs": [
    {
     "data": {
      "text/plain": [
       "[1/2*a + 1/2*d - 1/2*sqrt(a^2 + 4*b*c - 2*a*d + d^2),\n",
       " 1/2*a + 1/2*d + 1/2*sqrt(a^2 + 4*b*c - 2*a*d + d^2)]"
      ]
     },
     "execution_count": 20,
     "metadata": {},
     "output_type": "execute_result"
    }
   ],
   "source": [
    "A.eigenvalues()"
   ]
  },
  {
   "cell_type": "markdown",
   "id": "22ccdfb3-c58a-430d-a410-be117aeff33b",
   "metadata": {},
   "source": [
    "## 2. Таблички"
   ]
  },
  {
   "cell_type": "code",
   "execution_count": 7,
   "id": "798d745e-06e3-49a0-b4a0-b2d91c5a7df4",
   "metadata": {},
   "outputs": [],
   "source": [
    "t = table([\n",
    "    ['sdflsdjfhsl', 'sldkfjsdl', 23423423, x**2 / (x + 1)], \n",
    "    ['sdfka', 'sldkfjsdl', 23423423, x**2 / (x + 1)], \n",
    "    ['aaaaaaadjfhsl', 110 / (12 + x + (1 / (2 - x))), 23, x**2 / (x + 1)], \n",
    "])\n"
   ]
  },
  {
   "cell_type": "code",
   "execution_count": 9,
   "id": "e64c0785-5f9e-4c6d-93de-0c10e2eb514d",
   "metadata": {},
   "outputs": [
    {
     "data": {
      "text/html": [
       "<div class=\"notruncate\">\n",
       "<table  class=\"table_form\">\n",
       "<tbody>\n",
       "<tr class =\"row-a\">\n",
       "<td style=\"text-align:left\">sdflsdjfhsl</td>\n",
       "<td style=\"text-align:left\">sldkfjsdl</td>\n",
       "<td style=\"text-align:left\">\\(23423423\\)</td>\n",
       "<td style=\"text-align:left\">\\(\\frac{x^{2}}{x + 1}\\)</td>\n",
       "</tr>\n",
       "<tr class =\"row-b\">\n",
       "<td style=\"text-align:left\">sdfka</td>\n",
       "<td style=\"text-align:left\">sldkfjsdl</td>\n",
       "<td style=\"text-align:left\">\\(23423423\\)</td>\n",
       "<td style=\"text-align:left\">\\(\\frac{x^{2}}{x + 1}\\)</td>\n",
       "</tr>\n",
       "<tr class =\"row-a\">\n",
       "<td style=\"text-align:left\">aaaaaaadjfhsl</td>\n",
       "<td style=\"text-align:left\">\\(\\frac{110}{x - \\frac{1}{x - 2} + 12}\\)</td>\n",
       "<td style=\"text-align:left\">\\(23\\)</td>\n",
       "<td style=\"text-align:left\">\\(\\frac{x^{2}}{x + 1}\\)</td>\n",
       "</tr>\n",
       "</tbody>\n",
       "</table>\n",
       "</div>"
      ],
      "text/plain": [
       "  sdflsdjfhsl     sldkfjsdl                  23423423   x^2/(x + 1)\n",
       "  sdfka           sldkfjsdl                  23423423   x^2/(x + 1)\n",
       "  aaaaaaadjfhsl   110/(x - 1/(x - 2) + 12)   23         x^2/(x + 1)"
      ]
     },
     "execution_count": 9,
     "metadata": {},
     "output_type": "execute_result"
    }
   ],
   "source": [
    "t"
   ]
  },
  {
   "cell_type": "code",
   "execution_count": 8,
   "id": "6567ca6c-78b4-43cc-b74d-b97778f58abb",
   "metadata": {},
   "outputs": [
    {
     "data": {
      "text/plain": [
       "\\begin{tabular}{llll}\n",
       "sdflsdjfhsl & sldkfjsdl & $23423423$ & $\\frac{x^{2}}{x + 1}$ \\\\\n",
       "sdfka & sldkfjsdl & $23423423$ & $\\frac{x^{2}}{x + 1}$ \\\\\n",
       "aaaaaaadjfhsl & $\\frac{110}{x - \\frac{1}{x - 2} + 12}$ & $23$ & $\\frac{x^{2}}{x + 1}$ \\\\\n",
       "\\end{tabular}"
      ]
     },
     "execution_count": 8,
     "metadata": {},
     "output_type": "execute_result"
    }
   ],
   "source": [
    "latex(t)"
   ]
  },
  {
   "cell_type": "markdown",
   "id": "5a2785b1-8b19-42bb-8e3c-4b4ffe1181dd",
   "metadata": {},
   "source": [
    "## 3. Константи\n",
    "\n",
    "В sage всі `int`, `float` i `complex` числа при запуску обгортуються своїм кастомним класом:"
   ]
  },
  {
   "cell_type": "code",
   "execution_count": 10,
   "id": "10adbdee-6472-4c3f-a4d5-bae6d4b61888",
   "metadata": {},
   "outputs": [
    {
     "data": {
      "text/plain": [
       "<class 'sage.rings.integer.Integer'>"
      ]
     },
     "execution_count": 10,
     "metadata": {},
     "output_type": "execute_result"
    }
   ],
   "source": [
    "type(2)"
   ]
  },
  {
   "cell_type": "markdown",
   "id": "78e5f4a7-b3ac-4384-a07c-385eb796d30d",
   "metadata": {},
   "source": [
    "при чому, цілі числа при діленні дають раціональне число, а не дійсне: "
   ]
  },
  {
   "cell_type": "code",
   "execution_count": 14,
   "id": "c287e5f6-1c84-41fc-9eea-13547e977165",
   "metadata": {},
   "outputs": [
    {
     "data": {
      "text/plain": [
       "2/3"
      ]
     },
     "execution_count": 14,
     "metadata": {},
     "output_type": "execute_result"
    }
   ],
   "source": [
    "4 / 6"
   ]
  },
  {
   "cell_type": "code",
   "execution_count": 15,
   "id": "7e65df51-9cbb-4079-a225-6eda830f5937",
   "metadata": {},
   "outputs": [
    {
     "data": {
      "text/plain": [
       "<class 'sage.rings.rational.Rational'>"
      ]
     },
     "execution_count": 15,
     "metadata": {},
     "output_type": "execute_result"
    }
   ],
   "source": [
    "type(3 / 6)"
   ]
  },
  {
   "cell_type": "markdown",
   "id": "8eb735d8-c1e7-477d-b2bb-093b1edf7a10",
   "metadata": {},
   "source": [
    "хоча дійсні числа теж є"
   ]
  },
  {
   "cell_type": "code",
   "execution_count": 12,
   "id": "48a50f0a-3b0b-4fe6-bca8-5fda853cd29b",
   "metadata": {},
   "outputs": [
    {
     "data": {
      "text/plain": [
       "<class 'sage.rings.real_mpfr.RealLiteral'>"
      ]
     },
     "execution_count": 12,
     "metadata": {},
     "output_type": "execute_result"
    }
   ],
   "source": [
    "type(12.32131231)"
   ]
  },
  {
   "cell_type": "markdown",
   "id": "71efa62c-064c-495b-a879-6639fef048fe",
   "metadata": {},
   "source": [
    "## 4. Поля\n",
    "\n",
    "В sage є стандартні поля раціональних чисел, дійсних чисел, комплексних, а також дуже просто можна створити поля лишків: "
   ]
  },
  {
   "cell_type": "code",
   "execution_count": 22,
   "id": "1cb7ca9b-502c-4797-895f-d5d71f1efece",
   "metadata": {},
   "outputs": [
    {
     "data": {
      "text/plain": [
       "Rational Field"
      ]
     },
     "execution_count": 22,
     "metadata": {},
     "output_type": "execute_result"
    }
   ],
   "source": [
    "QQ"
   ]
  },
  {
   "cell_type": "code",
   "execution_count": 23,
   "id": "425be1c3-07c8-491c-9c9f-9ef0ace72fe8",
   "metadata": {},
   "outputs": [
    {
     "data": {
      "text/plain": [
       "Real Field with 53 bits of precision"
      ]
     },
     "execution_count": 23,
     "metadata": {},
     "output_type": "execute_result"
    }
   ],
   "source": [
    "RR"
   ]
  },
  {
   "cell_type": "code",
   "execution_count": 24,
   "id": "6a05b3ac-1a8f-44b2-b62a-6ae098c53bcc",
   "metadata": {},
   "outputs": [
    {
     "data": {
      "text/plain": [
       "Complex Field with 53 bits of precision"
      ]
     },
     "execution_count": 24,
     "metadata": {},
     "output_type": "execute_result"
    }
   ],
   "source": [
    "CC"
   ]
  },
  {
   "cell_type": "code",
   "execution_count": 25,
   "id": "1b626d00-82b2-4759-af41-c15f18334ee7",
   "metadata": {},
   "outputs": [
    {
     "data": {
      "text/plain": [
       "Ring of integers modulo 11"
      ]
     },
     "execution_count": 25,
     "metadata": {},
     "output_type": "execute_result"
    }
   ],
   "source": [
    "P = Integers(11)\n",
    "P"
   ]
  },
  {
   "cell_type": "code",
   "execution_count": 26,
   "id": "468dd77f-93b4-4fd9-b596-8259a7fb8ca8",
   "metadata": {},
   "outputs": [
    {
     "data": {
      "text/plain": [
       "True"
      ]
     },
     "execution_count": 26,
     "metadata": {},
     "output_type": "execute_result"
    }
   ],
   "source": [
    "P.is_field()"
   ]
  },
  {
   "cell_type": "markdown",
   "id": "52e0e9e5-373e-423e-b3f7-2a4df8a7b924",
   "metadata": {},
   "source": [
    "Над цими полями можна створювати, наприклад, матриці: "
   ]
  },
  {
   "cell_type": "code",
   "execution_count": 29,
   "id": "2a2fd736-d3d1-46e2-853b-d8b7357fc7e0",
   "metadata": {},
   "outputs": [
    {
     "data": {
      "text/plain": [
       "[2/3   2   8]\n",
       "[  3   2   2]\n",
       "[  4   2   0]"
      ]
     },
     "execution_count": 29,
     "metadata": {},
     "output_type": "execute_result"
    }
   ],
   "source": [
    "a = Matrix(QQ, [\n",
    "    [2/3, 2, 8], \n",
    "    [3, 2, 2], \n",
    "    [4, 2, 0]\n",
    "])\n",
    "a"
   ]
  },
  {
   "cell_type": "code",
   "execution_count": 30,
   "id": "7eb6504a-c519-4377-8b0f-97096e42f035",
   "metadata": {},
   "outputs": [
    {
     "data": {
      "text/plain": [
       "[  3/2    -6   9/2]\n",
       "[   -3    12 -17/2]\n",
       "[  3/4  -5/2   7/4]"
      ]
     },
     "execution_count": 30,
     "metadata": {},
     "output_type": "execute_result"
    }
   ],
   "source": [
    "a.inverse()"
   ]
  },
  {
   "cell_type": "code",
   "execution_count": 31,
   "id": "3da503ea-32d5-453e-af68-496a2cacea60",
   "metadata": {},
   "outputs": [
    {
     "data": {
      "text/plain": [
       "[0.666666666666667  2.00000000000000  8.00000000000000]\n",
       "[ 3.00000000000000  2.00000000000000  2.00000000000000]\n",
       "[ 4.00000000000000  2.00000000000000 0.000000000000000]"
      ]
     },
     "execution_count": 31,
     "metadata": {},
     "output_type": "execute_result"
    }
   ],
   "source": [
    "a = Matrix(RR, [\n",
    "    [2/3, 2, 8], \n",
    "    [3, 2, 2], \n",
    "    [4, 2, 0]\n",
    "])\n",
    "a"
   ]
  },
  {
   "cell_type": "code",
   "execution_count": 32,
   "id": "1a6f33db-b0e9-46f5-871a-9fe49951e754",
   "metadata": {},
   "outputs": [
    {
     "data": {
      "text/plain": [
       "[ 1.50000000000000 -6.00000000000001  4.50000000000001]\n",
       "[-3.00000000000000  12.0000000000000 -8.50000000000001]\n",
       "[0.750000000000001 -2.50000000000000  1.75000000000000]"
      ]
     },
     "execution_count": 32,
     "metadata": {},
     "output_type": "execute_result"
    }
   ],
   "source": [
    "a.inverse()"
   ]
  },
  {
   "cell_type": "code",
   "execution_count": 33,
   "id": "4a24a0f8-9c75-40a4-8b0c-630da0314d26",
   "metadata": {},
   "outputs": [
    {
     "data": {
      "text/plain": [
       "[2 2 8]\n",
       "[3 2 2]\n",
       "[4 2 0]"
      ]
     },
     "execution_count": 33,
     "metadata": {},
     "output_type": "execute_result"
    }
   ],
   "source": [
    "a = Matrix(P, [\n",
    "    [2, 2, 8], \n",
    "    [3, 2, 2], \n",
    "    [4, 2, 0]\n",
    "])\n",
    "a"
   ]
  },
  {
   "cell_type": "code",
   "execution_count": 34,
   "id": "31b70a53-4f1b-4eb4-a770-beca89c87cb8",
   "metadata": {},
   "outputs": [
    {
     "data": {
      "text/plain": [
       "[ 6  9  7]\n",
       "[10  4  3]\n",
       "[ 3  5  3]"
      ]
     },
     "execution_count": 34,
     "metadata": {},
     "output_type": "execute_result"
    }
   ],
   "source": [
    "# обернена матриця в полі Z_11\n",
    "a.inverse()"
   ]
  },
  {
   "cell_type": "markdown",
   "id": "3c57eb19-7921-4e2b-a6e5-b6f6744cccf3",
   "metadata": {},
   "source": [
    "## 5. Многочлени"
   ]
  },
  {
   "cell_type": "code",
   "execution_count": 35,
   "id": "b9f48ff1-7d3f-4ad8-bfbb-9af7c96e41a3",
   "metadata": {},
   "outputs": [
    {
     "data": {
      "text/plain": [
       "[(-1/2*(1/18*sqrt(31)*sqrt(3) - 1/2)^(1/3)*(I*sqrt(3) + 1) + 1/6*(-I*sqrt(3) + 1)/(1/18*sqrt(31)*sqrt(3) - 1/2)^(1/3),\n",
       "  1),\n",
       " (-1/2*(1/18*sqrt(31)*sqrt(3) - 1/2)^(1/3)*(-I*sqrt(3) + 1) + 1/6*(I*sqrt(3) + 1)/(1/18*sqrt(31)*sqrt(3) - 1/2)^(1/3),\n",
       "  1),\n",
       " ((1/18*sqrt(31)*sqrt(3) - 1/2)^(1/3) - 1/3/(1/18*sqrt(31)*sqrt(3) - 1/2)^(1/3),\n",
       "  1)]"
      ]
     },
     "execution_count": 35,
     "metadata": {},
     "output_type": "execute_result"
    }
   ],
   "source": [
    "(x**3 + x + 1).roots()"
   ]
  },
  {
   "cell_type": "code",
   "execution_count": 50,
   "id": "a5eaf708-998e-4205-9afb-be18376186a3",
   "metadata": {},
   "outputs": [
    {
     "data": {
      "text/plain": [
       "(x^3 - 2*x - 3)*(x - 1)"
      ]
     },
     "execution_count": 50,
     "metadata": {},
     "output_type": "execute_result"
    }
   ],
   "source": [
    "factor(x^4 - x^3 - 2 * x^2 - x + 3)"
   ]
  },
  {
   "cell_type": "markdown",
   "id": "a41fb209-19ac-49f8-8c46-b9458458fede",
   "metadata": {},
   "source": [
    "## 6. Графи"
   ]
  },
  {
   "cell_type": "code",
   "execution_count": 52,
   "id": "638a9cd1-3367-40ea-b9e3-77a762a2217b",
   "metadata": {},
   "outputs": [
    {
     "data": {
      "image/png": "[encoded data removed]",
      "text/plain": [
       "Graph on 3 vertices"
      ]
     },
     "execution_count": 52,
     "metadata": {},
     "output_type": "execute_result"
    }
   ],
   "source": [
    "G = Graph()\n",
    "G.add_vertex(10)\n",
    "G.add_vertex('s')\n",
    "G.add_vertex(12)\n",
    "G.add_edge(10, 12)\n",
    "G.add_edge(12, 's')\n",
    "G.add_edge('s', 10)\n",
    "G"
   ]
  },
  {
   "cell_type": "code",
   "execution_count": 53,
   "id": "b12ee668-e6eb-48db-b59d-d783537a8eb0",
   "metadata": {},
   "outputs": [
    {
     "data": {
      "text/plain": [
       "False"
      ]
     },
     "execution_count": 53,
     "metadata": {},
     "output_type": "execute_result"
    }
   ],
   "source": [
    "G.is_tree()"
   ]
  }
 ],
 "metadata": {
  "kernelspec": {
   "display_name": "SageMath 10.3",
   "language": "sage",
   "name": "sagemath-10.3"
  },
  "language_info": {
   "codemirror_mode": {
    "name": "ipython",
    "version": 3
   },
   "file_extension": ".py",
   "mimetype": "text/x-python",
   "name": "python",
   "nbconvert_exporter": "python",
   "pygments_lexer": "ipython3",
   "version": "3.11.8"
  }
 },
 "nbformat": 4,
 "nbformat_minor": 5
}
