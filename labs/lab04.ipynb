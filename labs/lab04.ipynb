{
 "cells": [
  {
   "cell_type": "markdown",
   "id": "c4563962-620d-438a-9d35-c278987e4072",
   "metadata": {},
   "source": [
    "### Лабораторна робота №4: Факторгрупи та гомоморфізми\n",
    "\n",
    "**Мета роботи:** Попрацювати з класами суміжності, факторгрупами та гомоморфізмами в Sage"
   ]
  },
  {
   "cell_type": "markdown",
   "id": "20402226-0840-4aae-8feb-358207cebc29",
   "metadata": {},
   "source": [
    "---\n",
    "### 1. Класи суміжності та нормальні підгрупи\n",
    "\n",
    "Розглянемо групу $S_4$ та її підгрупи:<br>\n",
    "$\\quad$ (a) $H_1=\\langle (1,2,3,4)\\rangle$;<br>\n",
    "$\\quad$ (b) $H_2=\\langle (1,3), (1,2,3,4)\\rangle$;<br>\n",
    "$\\quad$ (c) $H_3=K_4$.\n",
    "\n",
    "Для кожної з цих підгруп $H$ виконайте наступні кроки:\n",
    "1. Знайдіть порядок $H$ та її індекс $[S_4:H]$.\n",
    "2. Перевірте, чи є підгрупа $H$ нормальною.  % H.is_normal(G)\n",
    "3. Якщо $H$ є нормальною, то побудуйте факторгрупу $G/H$, її таблицю Келі та визначіть структуру.  % G.quotient(H), .structure_description()\n",
    "4. Якщо $H$ не є нормальною, то знайдіть для неї ліві та праві класи суміжності.  % G.cosets(H) \n"
   ]
  },
  {
   "cell_type": "code",
   "execution_count": null,
   "id": "e9d37af4-e4f6-4af2-a68d-eea87fc7f7c0",
   "metadata": {},
   "outputs": [],
   "source": []
  },
  {
   "cell_type": "markdown",
   "id": "4254bd6b-48dd-4a73-9032-54331c0ebeb1",
   "metadata": {},
   "source": [
    "---\n",
    "### 2. Нормальні підгрупи в дієдральних групах\n",
    "\n",
    "Для значень $n=3,4,\\ldots,100$ виконайте наступні кроки:\n",
    "1. Задайте дієдральну групу $D_n$.\n",
    "2. Визначіть кількість нормальних підгруп в $D_n$.\n",
    "3. Побудуйте список порядків нормальних підгруп.\n",
    "4. Визначіть структуру всіх нормальних підгруп.  %  .structure_description()\n",
    "5. Знайдіть закономірність і виведіть гіпотезу про кількість та структуру нормальних підгруп в $D_n$.\n",
    "6. Спрогнозуйте скільки нормальних підгруп має група $D_{470448}$ без обчислення. "
   ]
  },
  {
   "cell_type": "code",
   "execution_count": null,
   "id": "903b102e-38f0-4cf3-abbf-b822a84c4fa3",
   "metadata": {},
   "outputs": [],
   "source": []
  },
  {
   "cell_type": "markdown",
   "id": "6c4acd6d-85fa-4bda-982d-56411170384f",
   "metadata": {},
   "source": [
    "---\n",
    "### 3. Проекції групи $SL_2(\\mathbb{Z}_m)$ на $SL_2(\\mathbb{Z}_n)$ \n",
    "\n",
    "Для значень $m=6,8,20,30,100$ задайте групу $SL_2(\\mathbb{Z}_m)$.\n",
    "Для кожного дільника $n$ числа $m$:\n",
    "\n",
    "1. Задайте групу $SL_2(\\mathbb{Z}_n)$.\n",
    "2. Задайте гомоморфізм з групи $SL_2(\\mathbb{Z}_m)$ в групу $SL_2(\\mathbb{Z}_n)$, який редукує матриці mod n. % M.change_ring(Integers(n))\n",
    "3. Перевірте, чи є гомоморфізм сюр'єктивним.<br>\n",
    "4. Знайдіть порядок ядра гомоморфізму та порівняйте з $|SL_2(\\mathbb{Z}_m)| / |SL_2(\\mathbb{Z}_n)|$.<br>\n",
    "\n"
   ]
  },
  {
   "cell_type": "code",
   "execution_count": null,
   "id": "494f3b61-1843-45b5-b732-8ed0e1c9cfe4",
   "metadata": {},
   "outputs": [],
   "source": []
  },
  {
   "cell_type": "markdown",
   "id": "33491c38-bcd1-4e09-b249-9af835707f87",
   "metadata": {},
   "source": [
    "---\n",
    "### 4. Група Хігмана-Сімса\n",
    "\n",
    "1. На сайті https://brauer.maths.qmul.ac.uk/Atlas/v3/spor/HS в секції `Representations of HS : Number of Points 100` знайдіть твірні групи $a,b$, задані підстановками.\n",
    "2. Задайте їх як елементи групи $S_{100}$ і породіть ними підгрупу $G$. Це так звана група Хігмана-Сімса.\n",
    "3. Виведіть її порядок і знайдіть нормальні підгрупи. Зробіть висновки. "
   ]
  },
  {
   "cell_type": "code",
   "execution_count": null,
   "id": "071b27cb-d9d5-4918-8139-f4c329fac5f6",
   "metadata": {},
   "outputs": [],
   "source": []
  },
  {
   "cell_type": "markdown",
   "id": "f2dd2b0b-ff01-4c74-bf8a-ad4fe76875e1",
   "metadata": {},
   "source": [
    "---\n",
    "### 5*. Проекції групи $SL_2(\\mathbb{Z})$ на $SL_2(\\mathbb{Z}_n)$ \n",
    "\n",
    "Розглянемо групу $SL_2(\\mathbb{Z})$, яка породжується двома матрицями:  \n",
    "$$S = \\begin{pmatrix} 0 & -1 \\\\ 1 & 0 \\end{pmatrix},\\qquad T = \\begin{pmatrix} 1 & 1 \\\\ 0 & 1 \\end{pmatrix}. $$   %    S = matrix(ZZ, [[0,-1],[1,0]])\n",
    "\n",
    "1. Задайте гомоморфізм з групи $SL_2(\\mathbb{Z})$ в групу $SL_2(\\mathbb{Z}_n)$, який редукує матриці mod n.\n",
    "% M.change_ring(Integers(n))\n",
    " \n",
    "2. Перевірте, чи є гомоморфізм сюр'єктивним для значень $n=2,3,\\ldots,10$.<br>\n",
    "\n"
   ]
  },
  {
   "cell_type": "code",
   "execution_count": null,
   "id": "5fb97d2e-bc4d-48e6-924f-f2feb048b999",
   "metadata": {},
   "outputs": [],
   "source": []
  },
  {
   "cell_type": "markdown",
   "id": "ab14186a-93aa-4f73-b26f-85974cb7e88e",
   "metadata": {},
   "source": [
    "---\n",
    "### 6*. Автоморфізми симетричних груп $S_n$\n",
    "\n",
    "Для майже всіх симетричних груп $S_n$ усі автоморфізми є внутрішніми, однак існує одне особливе значення \n",
    "$n$, для якого з’являється зовнішній автоморфізм.\n",
    "\n",
    "1. Для кожного $n=2,3,4,\\ldots,8$:<br>\n",
    "   (а) Побудуйте групу $S_n$ у SageMath (через GAP).<br>\n",
    "   (б) Знайдіть групу автоморфізмів $Aut(S_n)$ та внутрішніх автоморфізмів $Inn(S_n)$.<br>\n",
    "   (в) Порівняйте їх порядки та визначте, для якого $n$ вони відрізняються.<br>\n",
    "2. Для знайденого значення $n$:<br>\n",
    "   (a) Побудуйте невнутрішній автоморфізм групи $S_n$.<br>\n",
    "   (б) Покажіть, як він діє на твірних групи (наприклад, на сусідніх транспозиціях $(1\\,2), (2\\,3),\\ldots, (n-1\\,n)$.\n"
   ]
  },
  {
   "cell_type": "code",
   "execution_count": null,
   "id": "3c3fdf0b-0482-4b95-b28a-6b49f1933c9c",
   "metadata": {},
   "outputs": [],
   "source": []
  }
 ],
 "metadata": {
  "kernelspec": {
   "display_name": "SageMath 10.6",
   "language": "sage",
   "name": "sagemath"
  },
  "language_info": {
   "codemirror_mode": {
    "name": "ipython",
    "version": 3
   },
   "file_extension": ".py",
   "mimetype": "text/x-python",
   "name": "python",
   "nbconvert_exporter": "python",
   "pygments_lexer": "ipython3",
   "version": "3.11.13"
  }
 },
 "nbformat": 4,
 "nbformat_minor": 5
}
